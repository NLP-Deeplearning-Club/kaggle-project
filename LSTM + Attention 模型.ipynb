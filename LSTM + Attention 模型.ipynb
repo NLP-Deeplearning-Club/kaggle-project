{
 "cells": [
  {
   "cell_type": "code",
   "execution_count": 1,
   "metadata": {
    "collapsed": true
   },
   "outputs": [],
   "source": [
    "from scipy.io import wavfile\n",
    "from scipy import signal\n",
    "import re\n",
    "from glob import glob\n",
    "import os\n",
    "import numpy as np\n",
    "import matplotlib.pyplot as plt\n",
    "import matplotlib.gridspec as gridspec\n",
    "from pathlib import Path"
   ]
  },
  {
   "cell_type": "markdown",
   "metadata": {},
   "source": [
    "# Import dataset"
   ]
  },
  {
   "cell_type": "code",
   "execution_count": 2,
   "metadata": {
    "collapsed": true
   },
   "outputs": [],
   "source": [
    "DATADIR = 'dataset'  # unzipped train and test data\n",
    "ALL_LABELS = ('bed bird cat dog down eight five four go ' +\n",
    "                   'happy house left marvin name.txt nine no ' +\n",
    "                   'off on one right seven sheila six stop three ' +\n",
    "                   'tree two up wow yes zero silence').split()"
   ]
  },
  {
   "cell_type": "code",
   "execution_count": 3,
   "metadata": {
    "collapsed": true
   },
   "outputs": [],
   "source": [
    "num_labels = len(ALL_LABELS)\n",
    "id2name = {i: name for i, name in enumerate(ALL_LABELS)}\n",
    "name2id = {name: i for i, name in id2name.items()}"
   ]
  },
  {
   "cell_type": "code",
   "execution_count": 4,
   "metadata": {
    "collapsed": true
   },
   "outputs": [],
   "source": [
    "p_validation_list = Path(DATADIR).joinpath('train/validation_list.txt')"
   ]
  },
  {
   "cell_type": "code",
   "execution_count": 5,
   "metadata": {
    "collapsed": false
   },
   "outputs": [
    {
     "data": {
      "text/plain": [
       "WindowsPath('dataset/train/validation_list.txt')"
      ]
     },
     "execution_count": 5,
     "metadata": {},
     "output_type": "execute_result"
    }
   ],
   "source": [
    "p_validation_list"
   ]
  },
  {
   "cell_type": "code",
   "execution_count": 6,
   "metadata": {
    "collapsed": false
   },
   "outputs": [
    {
     "name": "stdout",
     "output_type": "stream",
     "text": [
      "There are 57929 train and 6798 val samples\n"
     ]
    }
   ],
   "source": [
    "def load_data(data_dir):\n",
    "    DATADIR = 'dataset'  # unzipped train and test data\n",
    "    ALL_LABELS = ('bed bird cat dog down eight five four go ' +\n",
    "                   'happy house left marvin name.txt nine no ' +\n",
    "                   'off on one right seven sheila six stop three ' +\n",
    "                   'tree two up wow yes zero silence').split()\n",
    "    num_labels = len(ALL_LABELS)\n",
    "    id2name = {i: name for i, name in enumerate(ALL_LABELS)}\n",
    "    name2id = {name: i for i, name in id2name.items()}\n",
    "    pattern = re.compile(\"(.+\\\\\\\\)?(\\w+)\\\\\\\\([^_]+)_.+wav\")\n",
    "    pattern_v = re.compile(\"(.+\\/)?(\\w+)\\/([^_]+)_.+wav\")\n",
    "    \n",
    "    all_files = glob(os.path.join(data_dir, 'train\\\\audio\\\\*\\\\*wav'))\n",
    "\n",
    "    with open(os.path.join(data_dir, 'train\\\\validation_list.txt'), 'r') as fin:\n",
    "        validation_files = fin.readlines()\n",
    "    valset = set()\n",
    "    for entry in validation_files:\n",
    "        r = re.match(pattern_v, entry)\n",
    "        if r:\n",
    "            valset.add(r.group(3))\n",
    "\n",
    "    possible = set(ALL_LABELS)\n",
    "    train, val = [], []\n",
    "    for entry in all_files:\n",
    "        r = re.match(pattern, entry)\n",
    "        if r:\n",
    "            label, uid = r.group(2), r.group(3)\n",
    "            if label == '_background_noise_':\n",
    "                label = 'silence'\n",
    "            if label not in possible:\n",
    "                label = 'unknown'\n",
    "\n",
    "            label_id = name2id[label]\n",
    "\n",
    "            sample = (label_id, uid, entry)\n",
    "            if uid in valset:\n",
    "                val.append(sample)\n",
    "            else:\n",
    "                train.append(sample)\n",
    "\n",
    "    print('There are {} train and {} val samples'.format(len(train), len(val)))\n",
    "    return train, val\n",
    "\n",
    "train, val = load_data(DATADIR)"
   ]
  },
  {
   "cell_type": "markdown",
   "metadata": {},
   "source": [
    "# MFCC"
   ]
  },
  {
   "cell_type": "code",
   "execution_count": 7,
   "metadata": {
    "collapsed": false
   },
   "outputs": [],
   "source": [
    "import numpy as np\n",
    "from scipy.io import wavfile\n",
    "import python_speech_features\n",
    "\n",
    "def mfcc(audio, sample_rate, **kwargs):\n",
    "    \"\"\"从读出的音频数据中算出mfcc,具体可以看python_speech_features的文档\n",
    "\n",
    "    Parameters:\n",
    "        audio (np.ndarray): - 指明音频的振幅序列\n",
    "        sample_rate (int): - 指明抽样率\n",
    "        numcep (int): - 指明返回的倒数数量,默认为13\n",
    "\n",
    "    Returns:\n",
    "        np.ndarray: - mfcc强度(二维)组成的元组,shape为(times.shape,numcep)\n",
    "    \"\"\"\n",
    "    return python_speech_features.mfcc(audio, sample_rate, **kwargs)\n",
    "\n",
    "\n",
    "def mfcc_from_path(record_path, **kwargs):\n",
    "    \"\"\"从音频文件读取出mfcc\n",
    "\n",
    "    Parameters:\n",
    "        record_path (Union[pathlib.Path,str]): - 指明音频的路径\n",
    "\n",
    "    Returns:\n",
    "        np.ndarray: - mfcc强度(二维)组成的元组,shape为(times.shape,numcep)\n",
    "    \"\"\"\n",
    "    sample_rate, samples = wavfile.read(str(record_path))\n",
    "    return mfcc(samples, sample_rate,**kwargs)"
   ]
  },
  {
   "cell_type": "markdown",
   "metadata": {},
   "source": [
    "# Load Transformed Train Data"
   ]
  },
  {
   "cell_type": "code",
   "execution_count": 8,
   "metadata": {
    "collapsed": false
   },
   "outputs": [
    {
     "name": "stderr",
     "output_type": "stream",
     "text": [
      "Using TensorFlow backend.\n"
     ]
    },
    {
     "name": "stdout",
     "output_type": "stream",
     "text": [
      "Loading 0/57929.\n"
     ]
    },
    {
     "name": "stderr",
     "output_type": "stream",
     "text": [
      "C:\\Users\\Administrator\\Anaconda3\\envs\\py3.5\\lib\\site-packages\\scipy\\io\\wavfile.py:267: WavFileWarning: Chunk (non-data) not understood, skipping it.\n",
      "  WavFileWarning)\n"
     ]
    },
    {
     "name": "stdout",
     "output_type": "stream",
     "text": [
      "Loading 2000/57929.\n",
      "Loading 4000/57929.\n",
      "Loading 6000/57929.\n",
      "Loading 8000/57929.\n",
      "Loading 10000/57929.\n",
      "Loading 12000/57929.\n",
      "Loading 14000/57929.\n",
      "Loading 16000/57929.\n",
      "Loading 18000/57929.\n",
      "Loading 20000/57929.\n",
      "Loading 22000/57929.\n",
      "Loading 24000/57929.\n",
      "Loading 26000/57929.\n",
      "Loading 28000/57929.\n",
      "Loading 30000/57929.\n",
      "Loading 32000/57929.\n",
      "Loading 34000/57929.\n",
      "Loading 36000/57929.\n",
      "Loading 38000/57929.\n",
      "Loading 40000/57929.\n",
      "Loading 42000/57929.\n",
      "Loading 44000/57929.\n",
      "Loading 46000/57929.\n",
      "Loading 48000/57929.\n",
      "Loading 50000/57929.\n",
      "Loading 52000/57929.\n",
      "Loading 54000/57929.\n",
      "Loading 56000/57929.\n",
      "Finish loading train data\n",
      "Input Shape:  (57929, 99, 13)\n",
      "Output Shape:  (57929, 32)\n"
     ]
    }
   ],
   "source": [
    "from keras.utils import to_categorical\n",
    "\n",
    "train = np.array(train)\n",
    "np.random.shuffle(train)\n",
    "train = train.tolist()\n",
    "\n",
    "size = len(train)\n",
    "\n",
    "trainX = np.zeros( (len(train),99,13) )\n",
    "trainY = []\n",
    "\n",
    "for i, (label_id,uid,fname) in enumerate(train):\n",
    "    try:\n",
    "        x = mfcc_from_path(fname).tolist()\n",
    "        # ---------------------------------------\n",
    "        # Preprocess the train input sequence\n",
    "        # - Padding 0.0 at the end if length < 99\n",
    "        # - If longer than 99, choose only the first 99 items\n",
    "        # ---------------------------------------\n",
    "        while len(x) < 99:\n",
    "            x.append([0.0]*13)\n",
    "        if len(x) > 99:\n",
    "            x = x[0:99]\n",
    "        trainX[i] = x\n",
    "        trainY.append(label_id)\n",
    "        if i % 2000 == 0:\n",
    "            print(\"Loading {}/{}.\".format(i, size))\n",
    "    except Exception as err:\n",
    "        print(err)\n",
    "        \n",
    "print(\"Finish loading train data\")\n",
    "trainY = to_categorical(trainY, num_classes=num_labels)\n",
    "\n",
    "print(\"Input Shape: \",  trainX.shape)\n",
    "print(\"Output Shape: \", trainY.shape)"
   ]
  },
  {
   "cell_type": "markdown",
   "metadata": {},
   "source": [
    "# Load Validation Data"
   ]
  },
  {
   "cell_type": "code",
   "execution_count": 9,
   "metadata": {
    "collapsed": false,
    "scrolled": true
   },
   "outputs": [
    {
     "name": "stdout",
     "output_type": "stream",
     "text": [
      "Loading 0/6798.\n",
      "Loading 2000/6798.\n",
      "Loading 4000/6798.\n",
      "Loading 6000/6798.\n",
      "Finish loading val data.\n",
      "Input Shape:  (6798, 99, 13)\n",
      "Output Shape:  (6798, 32)\n"
     ]
    }
   ],
   "source": [
    "valX = np.zeros( (len(val),99,13) )\n",
    "valY = []\n",
    "\n",
    "size = len(val)\n",
    "\n",
    "for i, (label_id,uid,fname) in enumerate(val):\n",
    "    try:\n",
    "        x = mfcc_from_path(fname).tolist()\n",
    "        # ---------------------------------------\n",
    "        # Preprocess the train input sequence\n",
    "        # - Padding 0.0 at the end if length < 99\n",
    "        # - If longer than 99, choose only the first 99 items\n",
    "        # ---------------------------------------\n",
    "        while len(x) < 99:\n",
    "            x.append([0.0]*13)\n",
    "        if len(x) > 99:\n",
    "            x = x[0:99]\n",
    "        valX[i] = x\n",
    "        valY.append(label_id)\n",
    "        if i % 2000 == 0:\n",
    "            print(\"Loading {}/{}.\".format(i, size))\n",
    "    except Exception as err:\n",
    "        print(err)\n",
    "        \n",
    "print(\"Finish loading val data.\")\n",
    "valY = to_categorical(valY, num_classes=num_labels)\n",
    "\n",
    "print(\"Input Shape: \",  valX.shape)\n",
    "print(\"Output Shape: \", valY.shape)"
   ]
  },
  {
   "cell_type": "markdown",
   "metadata": {},
   "source": [
    "# Build the model"
   ]
  },
  {
   "cell_type": "code",
   "execution_count": 10,
   "metadata": {
    "collapsed": true
   },
   "outputs": [],
   "source": [
    "from keras.preprocessing.sequence import pad_sequences\n",
    "from keras.models import Sequential\n",
    "from keras.layers import Dense, LSTM, GRU, SimpleRNN, GlobalAveragePooling1D, AveragePooling1D, Activation\n",
    "from keras.utils import to_categorical\n",
    "\n",
    "from keras.layers import merge\n",
    "from keras.layers.core import *\n",
    "from keras.models import *"
   ]
  },
  {
   "cell_type": "code",
   "execution_count": 16,
   "metadata": {
    "collapsed": true
   },
   "outputs": [],
   "source": [
    "max_len = 99\n",
    "embed_dim = 13\n",
    "\n",
    "MODEL_TYPE = \"lstm\"\n",
    "ATTENTION = True\n",
    "LEARN_RATE = 0.001\n",
    "BATCH_SIZE = 20\n",
    "INPUT_SHAPE = [max_len, embed_dim]\n",
    "EPOCHE = 8#15\n",
    "NUM_HIDDEN = 100\n",
    "TIME_STEPS = max_len\n",
    "SINGLE_ATTENTION_VECTOR = False"
   ]
  },
  {
   "cell_type": "code",
   "execution_count": 17,
   "metadata": {
    "collapsed": false
   },
   "outputs": [
    {
     "name": "stderr",
     "output_type": "stream",
     "text": [
      "C:\\Users\\Administrator\\Anaconda3\\envs\\py3.5\\lib\\site-packages\\ipykernel\\__main__.py:11: UserWarning: The `merge` function is deprecated and will be removed after 08/2017. Use instead layers from `keras.layers.merge`, e.g. `add`, `concatenate`, etc.\n",
      "C:\\Users\\Administrator\\Anaconda3\\envs\\py3.5\\lib\\site-packages\\keras\\legacy\\layers.py:456: UserWarning: The `Merge` layer is deprecated and will be removed after 08/2017. Use instead layers from `keras.layers.merge`, e.g. `add`, `concatenate`, etc.\n",
      "  name=name)\n",
      "C:\\Users\\Administrator\\Anaconda3\\envs\\py3.5\\lib\\site-packages\\ipykernel\\__main__.py:28: UserWarning: Update your `Model` call to the Keras 2 API: `Model(outputs=Tensor(\"de..., inputs=[<tf.Tenso...)`\n"
     ]
    }
   ],
   "source": [
    "def attention_3d_block(inputs):\n",
    "    # inputs.shape = (batch_size, time_steps, input_dim)\n",
    "    input_dim = int(inputs.shape[2])\n",
    "    a = Permute((2, 1))(inputs)\n",
    "    a = Reshape((input_dim, TIME_STEPS))(a)\n",
    "    a = Dense(TIME_STEPS, activation='softmax')(a)\n",
    "    if SINGLE_ATTENTION_VECTOR:\n",
    "        a = Lambda(lambda x: K.mean(x, axis=1), name='dim_reduction')(a)\n",
    "        a = RepeatVector(input_dim)(a)\n",
    "    a_probs = Permute((2, 1), name='attention_vec')(a)\n",
    "    output_attention_mul = merge([inputs, a_probs], name='attention_mul', mode='mul')\n",
    "    return output_attention_mul\n",
    "\n",
    "inputs = Input(shape=(INPUT_SHAPE))\n",
    "# RNN Layer\n",
    "if MODEL_TYPE == 'rnn':\n",
    "    rnn_out = SimpleRNN(NUM_HIDDEN, return_sequences=True)(inputs)\n",
    "elif MODEL_TYPE == 'gru':\n",
    "    rnn_out = GRU(NUM_HIDDEN, return_sequences=True)(inputs)\n",
    "elif MODEL_TYPE == 'lstm':\n",
    "    rnn_out = LSTM(NUM_HIDDEN, return_sequences=True)(inputs)\n",
    "else:\n",
    "    raise NameError(\"Unsupported model type\")\n",
    "# Attention Layer\n",
    "attention_mul = attention_3d_block(rnn_out)\n",
    "attention_mul = Flatten()(attention_mul)\n",
    "output = Dense(num_labels, activation='softmax')(attention_mul)\n",
    "model = Model(input=[inputs], output=output)"
   ]
  },
  {
   "cell_type": "code",
   "execution_count": 18,
   "metadata": {
    "collapsed": false
   },
   "outputs": [
    {
     "name": "stdout",
     "output_type": "stream",
     "text": [
      "_________________________________________________________________\n",
      "Layer (type)                 Output Shape              Param #   \n",
      "=================================================================\n",
      "input_2 (InputLayer)         (None, 99, 13)            0         \n",
      "_________________________________________________________________\n",
      "lstm_2 (LSTM)                (None, 99, 100)           45600     \n",
      "_________________________________________________________________\n",
      "permute_2 (Permute)          (None, 100, 99)           0         \n",
      "_________________________________________________________________\n",
      "reshape_2 (Reshape)          (None, 100, 99)           0         \n",
      "_________________________________________________________________\n",
      "dense_3 (Dense)              (None, 100, 99)           9900      \n",
      "_________________________________________________________________\n",
      "attention_vec (Permute)      (None, 99, 100)           0         \n",
      "_________________________________________________________________\n",
      "attention_mul (Merge)        (None, 99, 100)           0         \n",
      "_________________________________________________________________\n",
      "flatten_2 (Flatten)          (None, 9900)              0         \n",
      "_________________________________________________________________\n",
      "dense_4 (Dense)              (None, 32)                316832    \n",
      "=================================================================\n",
      "Total params: 372,332.0\n",
      "Trainable params: 372,332.0\n",
      "Non-trainable params: 0.0\n",
      "_________________________________________________________________\n"
     ]
    }
   ],
   "source": [
    "model.compile(loss='categorical_crossentropy',\n",
    "              optimizer='adam',\n",
    "              metrics=['accuracy'])\n",
    "\n",
    "model.summary()"
   ]
  },
  {
   "cell_type": "code",
   "execution_count": 19,
   "metadata": {
    "collapsed": false
   },
   "outputs": [
    {
     "name": "stdout",
     "output_type": "stream",
     "text": [
      "Train on 57929 samples, validate on 6798 samples\n",
      "Epoch 1/8\n",
      "296s - loss: 1.2588 - acc: 0.6612 - val_loss: 0.7685 - val_acc: 0.7827\n",
      "Epoch 2/8\n",
      "297s - loss: 0.6408 - acc: 0.8200 - val_loss: 0.6287 - val_acc: 0.8182\n",
      "Epoch 3/8\n",
      "297s - loss: 0.5091 - acc: 0.8547 - val_loss: 0.5782 - val_acc: 0.8310\n",
      "Epoch 4/8\n",
      "295s - loss: 0.4373 - acc: 0.8738 - val_loss: 0.5609 - val_acc: 0.8398\n",
      "Epoch 5/8\n",
      "296s - loss: 0.3845 - acc: 0.8884 - val_loss: 0.5588 - val_acc: 0.8372\n",
      "Epoch 6/8\n",
      "295s - loss: 0.3387 - acc: 0.8997 - val_loss: 0.5453 - val_acc: 0.8442\n",
      "Epoch 7/8\n",
      "296s - loss: 0.3034 - acc: 0.9108 - val_loss: 0.5240 - val_acc: 0.8477\n",
      "Epoch 8/8\n",
      "296s - loss: 0.2784 - acc: 0.9158 - val_loss: 0.5215 - val_acc: 0.8505\n"
     ]
    }
   ],
   "source": [
    "import keras\n",
    "\n",
    "# Early Stopping\n",
    "early_stop = keras.callbacks.EarlyStopping(monitor='val_loss', min_delta=0, patience=2, verbose=2, mode='auto')\n",
    "\n",
    "# Reduce lr\n",
    "reduce_lr = keras.callbacks.ReduceLROnPlateau(monitor='val_loss', factor=0.2,\n",
    "                              patience=1, min_lr=0.0001)\n",
    "\n",
    "callbacks = [early_stop, reduce_lr]\n",
    "\n",
    "# Train\n",
    "model_info = model.fit(trainX, trainY, \n",
    "          epochs=EPOCHE, batch_size=BATCH_SIZE, \n",
    "          validation_data=(valX, valY),\n",
    "                       verbose=2,\n",
    "          callbacks=callbacks\n",
    "                      )"
   ]
  },
  {
   "cell_type": "code",
   "execution_count": 20,
   "metadata": {
    "collapsed": false
   },
   "outputs": [
    {
     "data": {
      "image/png": "[encoded data removed]",
      "text/plain": [
       "<matplotlib.figure.Figure at 0x22083757ac8>"
      ]
     },
     "metadata": {},
     "output_type": "display_data"
    }
   ],
   "source": [
    "import matplotlib.pyplot as plt\n",
    "\n",
    "def plot_model_history(model_history):\n",
    "    fig, axs = plt.subplots(1,2,figsize=(15,5))\n",
    "    # summarize history for accuracy\n",
    "    axs[0].plot(range(1,len(model_history.history['acc'])+1),model_history.history['acc'])\n",
    "    axs[0].plot(range(1,len(model_history.history['val_acc'])+1),model_history.history['val_acc'])\n",
    "    axs[0].set_title('Model Accuracy')\n",
    "    axs[0].set_ylabel('Accuracy')\n",
    "    axs[0].set_xlabel('Epoch')\n",
    "    axs[0].set_xticks(np.arange(1,len(model_history.history['acc'])+1),len(model_history.history['acc'])/10)\n",
    "    axs[0].legend(['train', 'val'], loc='best')\n",
    "    # summarize history for loss\n",
    "    axs[1].plot(range(1,len(model_history.history['loss'])+1),model_history.history['loss'])\n",
    "    axs[1].plot(range(1,len(model_history.history['val_loss'])+1),model_history.history['val_loss'])\n",
    "    axs[1].set_title('Model Loss')\n",
    "    axs[1].set_ylabel('Loss')\n",
    "    axs[1].set_xlabel('Epoch')\n",
    "    axs[1].set_xticks(np.arange(1,len(model_history.history['loss'])+1),len(model_history.history['loss'])/10)\n",
    "    axs[1].legend(['train', 'val'], loc='best')\n",
    "    plt.show()\n",
    "    \n",
    "plot_model_history(model_info)"
   ]
  },
  {
   "cell_type": "markdown",
   "metadata": {},
   "source": [
    "# Load Test Data"
   ]
  },
  {
   "cell_type": "code",
   "execution_count": 21,
   "metadata": {
    "collapsed": true
   },
   "outputs": [],
   "source": [
    "import glob    \n",
    "import pandas as pd\n",
    "\n",
    "test_files = glob.glob(\"./dataset/test/audio/*.wav\")\n",
    "test_filenames = [f.split(\"/\")[-1] for f in test_files]"
   ]
  },
  {
   "cell_type": "markdown",
   "metadata": {},
   "source": [
    "# Generate Submission"
   ]
  },
  {
   "cell_type": "code",
   "execution_count": 23,
   "metadata": {
    "collapsed": false
   },
   "outputs": [
    {
     "name": "stdout",
     "output_type": "stream",
     "text": [
      "Predicting 0/158538\n",
      "Predicting 3000/158538\n",
      "Predicting 6000/158538\n",
      "Predicting 9000/158538\n",
      "Predicting 12000/158538\n",
      "Predicting 15000/158538\n",
      "Predicting 18000/158538\n",
      "Predicting 21000/158538\n",
      "Predicting 24000/158538\n",
      "Predicting 27000/158538\n",
      "Predicting 30000/158538\n",
      "Predicting 33000/158538\n",
      "Predicting 36000/158538\n",
      "Predicting 39000/158538\n",
      "Predicting 42000/158538\n",
      "Predicting 45000/158538\n",
      "Predicting 48000/158538\n",
      "Predicting 51000/158538\n",
      "Predicting 54000/158538\n",
      "Predicting 57000/158538\n",
      "Predicting 60000/158538\n",
      "Predicting 63000/158538\n",
      "Predicting 66000/158538\n",
      "Predicting 69000/158538\n",
      "Predicting 72000/158538\n",
      "Predicting 75000/158538\n",
      "Predicting 78000/158538\n",
      "Predicting 81000/158538\n",
      "Predicting 84000/158538\n",
      "Predicting 87000/158538\n",
      "Predicting 90000/158538\n",
      "Predicting 93000/158538\n",
      "Predicting 96000/158538\n",
      "Predicting 99000/158538\n",
      "Predicting 102000/158538\n",
      "Predicting 105000/158538\n",
      "Predicting 108000/158538\n",
      "Predicting 111000/158538\n",
      "Predicting 114000/158538\n",
      "Predicting 117000/158538\n",
      "Predicting 120000/158538\n",
      "Predicting 123000/158538\n",
      "Predicting 126000/158538\n",
      "Predicting 129000/158538\n",
      "Predicting 132000/158538\n",
      "Predicting 135000/158538\n",
      "Predicting 138000/158538\n",
      "Predicting 141000/158538\n",
      "Predicting 144000/158538\n",
      "Predicting 147000/158538\n",
      "Predicting 150000/158538\n",
      "Predicting 153000/158538\n",
      "Predicting 156000/158538\n",
      "Finish predicting.....\n",
      "Writing to file.....\n"
     ]
    }
   ],
   "source": [
    "submission = []\n",
    "\n",
    "possible_labels = ['yes', 'no', 'up', 'down', 'left', 'right', 'on', 'off', 'stop', 'go', 'silence']\n",
    "\n",
    "num_test = len(test_files)\n",
    "\n",
    "for i in range(num_test):\n",
    "    test_wav = mfcc_from_path(test_files[i])[np.newaxis,:,:]\n",
    "    label = id2name[np.argmax( model.predict(test_wav) )]\n",
    "    if label not in possible_labels:\n",
    "        label = 'unknown' \n",
    "    submission.append([test_filenames[i], label])\n",
    "    if i % 3000 == 0:\n",
    "        print(\"Predicting {}/{}\".format(i, num_test))\n",
    "\n",
    "print(\"Finish predicting.....\")\n",
    "\n",
    "submissionDF = pd.DataFrame(submission, columns=['fname','label'])\n",
    "\n",
    "print(\"Writing to file.....\")\n",
    "submissionDF.to_csv(\"submission-lstm-attention.csv\", index=False, header=True)"
   ]
  },
  {
   "cell_type": "code",
   "execution_count": 24,
   "metadata": {
    "collapsed": true
   },
   "outputs": [],
   "source": [
    "import pandas as pd"
   ]
  },
  {
   "cell_type": "code",
   "execution_count": 26,
   "metadata": {
    "collapsed": false
   },
   "outputs": [],
   "source": [
    "t = pd.read_csv(\"submission-lstm-attention.csv\",encoding = \"utf-8\")"
   ]
  },
  {
   "cell_type": "code",
   "execution_count": 27,
   "metadata": {
    "collapsed": false
   },
   "outputs": [
    {
     "data": {
      "text/html": [
       "<div>\n",
       "<table border=\"1\" class=\"dataframe\">\n",
       "  <thead>\n",
       "    <tr style=\"text-align: right;\">\n",
       "      <th></th>\n",
       "      <th>fname</th>\n",
       "      <th>label</th>\n",
       "    </tr>\n",
       "  </thead>\n",
       "  <tbody>\n",
       "    <tr>\n",
       "      <th>0</th>\n",
       "      <td>audio\\clip_000044442.wav</td>\n",
       "      <td>down</td>\n",
       "    </tr>\n",
       "    <tr>\n",
       "      <th>1</th>\n",
       "      <td>audio\\clip_0000adecb.wav</td>\n",
       "      <td>unknown</td>\n",
       "    </tr>\n",
       "    <tr>\n",
       "      <th>2</th>\n",
       "      <td>audio\\clip_0000d4322.wav</td>\n",
       "      <td>unknown</td>\n",
       "    </tr>\n",
       "    <tr>\n",
       "      <th>3</th>\n",
       "      <td>audio\\clip_0000fb6fe.wav</td>\n",
       "      <td>unknown</td>\n",
       "    </tr>\n",
       "    <tr>\n",
       "      <th>4</th>\n",
       "      <td>audio\\clip_0001d1559.wav</td>\n",
       "      <td>unknown</td>\n",
       "    </tr>\n",
       "    <tr>\n",
       "      <th>5</th>\n",
       "      <td>audio\\clip_0002256ed.wav</td>\n",
       "      <td>unknown</td>\n",
       "    </tr>\n",
       "    <tr>\n",
       "      <th>6</th>\n",
       "      <td>audio\\clip_0002a4a1f.wav</td>\n",
       "      <td>on</td>\n",
       "    </tr>\n",
       "    <tr>\n",
       "      <th>7</th>\n",
       "      <td>audio\\clip_0002d9b83.wav</td>\n",
       "      <td>right</td>\n",
       "    </tr>\n",
       "    <tr>\n",
       "      <th>8</th>\n",
       "      <td>audio\\clip_000373a5b.wav</td>\n",
       "      <td>go</td>\n",
       "    </tr>\n",
       "    <tr>\n",
       "      <th>9</th>\n",
       "      <td>audio\\clip_0003c7122.wav</td>\n",
       "      <td>unknown</td>\n",
       "    </tr>\n",
       "  </tbody>\n",
       "</table>\n",
       "</div>"
      ],
      "text/plain": [
       "                      fname    label\n",
       "0  audio\\clip_000044442.wav     down\n",
       "1  audio\\clip_0000adecb.wav  unknown\n",
       "2  audio\\clip_0000d4322.wav  unknown\n",
       "3  audio\\clip_0000fb6fe.wav  unknown\n",
       "4  audio\\clip_0001d1559.wav  unknown\n",
       "5  audio\\clip_0002256ed.wav  unknown\n",
       "6  audio\\clip_0002a4a1f.wav       on\n",
       "7  audio\\clip_0002d9b83.wav    right\n",
       "8  audio\\clip_000373a5b.wav       go\n",
       "9  audio\\clip_0003c7122.wav  unknown"
      ]
     },
     "execution_count": 27,
     "metadata": {},
     "output_type": "execute_result"
    }
   ],
   "source": [
    "t[:10]"
   ]
  },
  {
   "cell_type": "code",
   "execution_count": 30,
   "metadata": {
    "collapsed": false
   },
   "outputs": [],
   "source": [
    "s = t[\"fname\"].apply(lambda x: x.split(\"\\\\\")[1])"
   ]
  },
  {
   "cell_type": "code",
   "execution_count": 32,
   "metadata": {
    "collapsed": false
   },
   "outputs": [],
   "source": [
    "t[\"fname\"] = s"
   ]
  },
  {
   "cell_type": "code",
   "execution_count": 33,
   "metadata": {
    "collapsed": false
   },
   "outputs": [
    {
     "data": {
      "text/html": [
       "<div>\n",
       "<table border=\"1\" class=\"dataframe\">\n",
       "  <thead>\n",
       "    <tr style=\"text-align: right;\">\n",
       "      <th></th>\n",
       "      <th>fname</th>\n",
       "      <th>label</th>\n",
       "    </tr>\n",
       "  </thead>\n",
       "  <tbody>\n",
       "    <tr>\n",
       "      <th>0</th>\n",
       "      <td>clip_000044442.wav</td>\n",
       "      <td>down</td>\n",
       "    </tr>\n",
       "    <tr>\n",
       "      <th>1</th>\n",
       "      <td>clip_0000adecb.wav</td>\n",
       "      <td>unknown</td>\n",
       "    </tr>\n",
       "    <tr>\n",
       "      <th>2</th>\n",
       "      <td>clip_0000d4322.wav</td>\n",
       "      <td>unknown</td>\n",
       "    </tr>\n",
       "    <tr>\n",
       "      <th>3</th>\n",
       "      <td>clip_0000fb6fe.wav</td>\n",
       "      <td>unknown</td>\n",
       "    </tr>\n",
       "    <tr>\n",
       "      <th>4</th>\n",
       "      <td>clip_0001d1559.wav</td>\n",
       "      <td>unknown</td>\n",
       "    </tr>\n",
       "    <tr>\n",
       "      <th>5</th>\n",
       "      <td>clip_0002256ed.wav</td>\n",
       "      <td>unknown</td>\n",
       "    </tr>\n",
       "    <tr>\n",
       "      <th>6</th>\n",
       "      <td>clip_0002a4a1f.wav</td>\n",
       "      <td>on</td>\n",
       "    </tr>\n",
       "    <tr>\n",
       "      <th>7</th>\n",
       "      <td>clip_0002d9b83.wav</td>\n",
       "      <td>right</td>\n",
       "    </tr>\n",
       "    <tr>\n",
       "      <th>8</th>\n",
       "      <td>clip_000373a5b.wav</td>\n",
       "      <td>go</td>\n",
       "    </tr>\n",
       "    <tr>\n",
       "      <th>9</th>\n",
       "      <td>clip_0003c7122.wav</td>\n",
       "      <td>unknown</td>\n",
       "    </tr>\n",
       "  </tbody>\n",
       "</table>\n",
       "</div>"
      ],
      "text/plain": [
       "                fname    label\n",
       "0  clip_000044442.wav     down\n",
       "1  clip_0000adecb.wav  unknown\n",
       "2  clip_0000d4322.wav  unknown\n",
       "3  clip_0000fb6fe.wav  unknown\n",
       "4  clip_0001d1559.wav  unknown\n",
       "5  clip_0002256ed.wav  unknown\n",
       "6  clip_0002a4a1f.wav       on\n",
       "7  clip_0002d9b83.wav    right\n",
       "8  clip_000373a5b.wav       go\n",
       "9  clip_0003c7122.wav  unknown"
      ]
     },
     "execution_count": 33,
     "metadata": {},
     "output_type": "execute_result"
    }
   ],
   "source": [
    "t[:10]"
   ]
  },
  {
   "cell_type": "code",
   "execution_count": 34,
   "metadata": {
    "collapsed": true
   },
   "outputs": [],
   "source": [
    "t.to_csv(\"submission-lstm-attention.csv\", index=False, header=True)"
   ]
  },
  {
   "cell_type": "code",
   "execution_count": null,
   "metadata": {
    "collapsed": true
   },
   "outputs": [],
   "source": []
  }
 ],
 "metadata": {
  "kernelspec": {
   "display_name": "Python 3.5",
   "language": "python",
   "name": "python3.5"
  },
  "language_info": {
   "codemirror_mode": {
    "name": "ipython",
    "version": 3
   },
   "file_extension": ".py",
   "mimetype": "text/x-python",
   "name": "python",
   "nbconvert_exporter": "python",
   "pygments_lexer": "ipython3",
   "version": "3.5.2"
  }
 },
 "nbformat": 4,
 "nbformat_minor": 2
}
